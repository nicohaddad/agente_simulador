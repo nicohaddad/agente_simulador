{
 "cells": [
  {
   "cell_type": "markdown",
   "id": "f3d3a6b0",
   "metadata": {},
   "source": [
    "# Simulador de Juicio Oral con IA 🇲🇽\n",
    "\n",
    "Este notebook ejecuta paso a paso una simulación de juicio oral penal mexicano usando agentes GPT.\n",
    "\n",
    "**Requisitos previos:**\n",
    "- Tener una cuenta de OpenAI y tu API key válida\n",
    "- Haber instalado dependencias con `pip install -r requirements.txt`\n",
    "- Haber colocado tu clave en `.env`\n",
    "\n",
    "**¡Comencemos!**"
   ]
  },
  {
   "cell_type": "code",
   "execution_count": 2,
   "id": "d77f8587",
   "metadata": {},
   "outputs": [],
   "source": [
    "import os, json\n",
    "from agent import Agent\n",
    "from dotenv import load_dotenv\n",
    "\n",
    "load_dotenv()\n",
    "assert os.getenv('OPENAI_API_KEY'), '⚠️ Debes colocar tu clave en el archivo .env antes de continuar'"
   ]
  },
  {
   "cell_type": "code",
   "execution_count": 3,
   "id": "b1323235",
   "metadata": {},
   "outputs": [],
   "source": [
    "with open('role_config.json', 'r', encoding='utf-8') as f:\n",
    "    role_config = json.load(f)\n",
    "\n",
    "agents = {k: Agent(v[\"name\"], v[\"system_prompt\"]) for k, v in role_config.items()}\n",
    "\n",
    "# Cargar caso\n",
    "with open('data/case001.json', 'r', encoding='utf-8') as f:\n",
    "    case = json.load(f)\n",
    "\n",
    "# Asignar agente juez\n",
    "judge = agents[\"juez\"]"
   ]
  },
  {
   "cell_type": "code",
   "execution_count": null,
   "id": "8cace3c6-2a6f-4de1-b83c-1b5bd7f03c30",
   "metadata": {},
   "outputs": [],
   "source": []
  },
  {
   "cell_type": "code",
   "execution_count": 4,
   "id": "83543b3c",
   "metadata": {},
   "outputs": [
    {
     "ename": "AttributeError",
     "evalue": "module 'openai' has no attribute 'chat'",
     "output_type": "error",
     "traceback": [
      "\u001b[0;31m---------------------------------------------------------------------------\u001b[0m",
      "\u001b[0;31mAttributeError\u001b[0m                            Traceback (most recent call last)",
      "Cell \u001b[0;32mIn[4], line 3\u001b[0m\n\u001b[1;32m      1\u001b[0m msg \u001b[38;5;241m=\u001b[39m \u001b[38;5;124mf\u001b[39m\u001b[38;5;124m\"\u001b[39m\u001b[38;5;124mDeclara abierta la audiencia de juicio oral del caso \u001b[39m\u001b[38;5;132;01m{\u001b[39;00mcase[\u001b[38;5;124m'\u001b[39m\u001b[38;5;124mid\u001b[39m\u001b[38;5;124m'\u001b[39m]\u001b[38;5;132;01m}\u001b[39;00m\u001b[38;5;124m. Presenta a las partes.\u001b[39m\u001b[38;5;124m\"\u001b[39m\n\u001b[1;32m      2\u001b[0m judge\u001b[38;5;241m.\u001b[39madd_user_message(msg)\n\u001b[0;32m----> 3\u001b[0m opening \u001b[38;5;241m=\u001b[39m \u001b[43mjudge\u001b[49m\u001b[38;5;241;43m.\u001b[39;49m\u001b[43mchat\u001b[49m\u001b[43m(\u001b[49m\u001b[43m)\u001b[49m\n\u001b[1;32m      4\u001b[0m \u001b[38;5;28mprint\u001b[39m(\u001b[38;5;124mf\u001b[39m\u001b[38;5;124m\"\u001b[39m\u001b[38;5;124m👩‍⚖️ \u001b[39m\u001b[38;5;132;01m{\u001b[39;00mjudge\u001b[38;5;241m.\u001b[39mname\u001b[38;5;132;01m}\u001b[39;00m\u001b[38;5;124m:\u001b[39m\u001b[38;5;130;01m\\n\u001b[39;00m\u001b[38;5;132;01m{\u001b[39;00mopening\u001b[38;5;132;01m}\u001b[39;00m\u001b[38;5;124m\"\u001b[39m)\n",
      "File \u001b[0;32m~/Documents/NH/Nicolas/Jupyter/agentscourt_mx/agent.py:16\u001b[0m, in \u001b[0;36mAgent.chat\u001b[0;34m(self)\u001b[0m\n\u001b[1;32m     15\u001b[0m \u001b[38;5;28;01mdef\u001b[39;00m \u001b[38;5;21mchat\u001b[39m(\u001b[38;5;28mself\u001b[39m) \u001b[38;5;241m-\u001b[39m\u001b[38;5;241m>\u001b[39m \u001b[38;5;28mstr\u001b[39m:\n\u001b[0;32m---> 16\u001b[0m     response \u001b[38;5;241m=\u001b[39m \u001b[43mopenai\u001b[49m\u001b[38;5;241;43m.\u001b[39;49m\u001b[43mchat\u001b[49m\u001b[38;5;241m.\u001b[39mcompletions\u001b[38;5;241m.\u001b[39mcreate(\n\u001b[1;32m     17\u001b[0m         model\u001b[38;5;241m=\u001b[39m\u001b[38;5;28mself\u001b[39m\u001b[38;5;241m.\u001b[39mmodel,\n\u001b[1;32m     18\u001b[0m         temperature\u001b[38;5;241m=\u001b[39m\u001b[38;5;28mself\u001b[39m\u001b[38;5;241m.\u001b[39mtemperature,\n\u001b[1;32m     19\u001b[0m         messages\u001b[38;5;241m=\u001b[39m\u001b[38;5;28mself\u001b[39m\u001b[38;5;241m.\u001b[39mmessages,\n\u001b[1;32m     20\u001b[0m     )\n\u001b[1;32m     21\u001b[0m     content \u001b[38;5;241m=\u001b[39m response\u001b[38;5;241m.\u001b[39mchoices[\u001b[38;5;241m0\u001b[39m]\u001b[38;5;241m.\u001b[39mmessage\u001b[38;5;241m.\u001b[39mcontent\n\u001b[1;32m     22\u001b[0m     \u001b[38;5;66;03m# Keep conversation short by trimming history\u001b[39;00m\n",
      "\u001b[0;31mAttributeError\u001b[0m: module 'openai' has no attribute 'chat'"
     ]
    }
   ],
   "source": [
    "msg = f\"Declara abierta la audiencia de juicio oral del caso {case['id']}. Presenta a las partes.\"\n",
    "judge.add_user_message(msg)\n",
    "opening = judge.chat()\n",
    "print(f\"👩‍⚖️ {judge.name}:\\n{opening}\")"
   ]
  },
  {
   "cell_type": "code",
   "execution_count": null,
   "id": "6b522f1e",
   "metadata": {},
   "outputs": [],
   "source": [
    "mp.add_user_message(\"Presente su teoría del caso en menos de 100 palabras.\")\n",
    "mp_open = mp.chat()\n",
    "print(f\"⚖️ {mp.name}:\\n{mp_open}\")"
   ]
  },
  {
   "cell_type": "code",
   "execution_count": null,
   "id": "f77ae5d7",
   "metadata": {},
   "outputs": [],
   "source": [
    "defense.add_user_message(\"Presente su teoría del caso y presunción de inocencia en menos de 100 palabras.\")\n",
    "def_open = defense.chat()\n",
    "print(f\"🛡️ {defense.name}:\\n{def_open}\")"
   ]
  },
  {
   "cell_type": "code",
   "execution_count": null,
   "id": "39faa191",
   "metadata": {},
   "outputs": [],
   "source": [
    "q1 = \"Testigo, relate lo que observó la noche de los hechos.\"\n",
    "mp.add_user_message(q1)\n",
    "witness.add_user_message(q1)\n",
    "a1 = witness.chat()\n",
    "print(f\"👀 {witness.name}:\\n{a1}\")"
   ]
  },
  {
   "cell_type": "code",
   "execution_count": null,
   "id": "1718e55d",
   "metadata": {},
   "outputs": [],
   "source": [
    "q2 = \"Testigo, ¿estaba usted a más de 10 metros del acusado cuando ocurrió el hecho?\"\n",
    "defense.add_user_message(q2)\n",
    "witness.add_user_message(q2)\n",
    "a2 = witness.chat()\n",
    "print(f\"🔍 {witness.name}:\\n{a2}\")"
   ]
  },
  {
   "cell_type": "code",
   "execution_count": null,
   "id": "b1fa64a5",
   "metadata": {},
   "outputs": [],
   "source": [
    "mp.add_user_message(\"Presente su alegato final en menos de 80 palabras.\")\n",
    "mp_final = mp.chat()\n",
    "print(f\"⚖️ {mp.name} (final):\\n{mp_final}\")\n",
    "\n",
    "defense.add_user_message(\"Presente su alegato final en menos de 80 palabras.\")\n",
    "def_final = defense.chat()\n",
    "print(f\"🛡️ {defense.name} (final):\\n{def_final}\")"
   ]
  },
  {
   "cell_type": "code",
   "execution_count": null,
   "id": "06dba3c6",
   "metadata": {},
   "outputs": [],
   "source": [
    "judge.add_user_message(\"Emita el fallo citando el artículo 388 CNPP en menos de 120 palabras.\")\n",
    "verdict = judge.chat()\n",
    "print(f\"👩‍⚖️ {judge.name} (fallo):\\n{verdict}\")"
   ]
  },
  {
   "cell_type": "code",
   "execution_count": null,
   "id": "7115c1dc",
   "metadata": {},
   "outputs": [],
   "source": [
    "import os\n",
    "\n",
    "def leer_en_voz_alta(texto):\n",
    "    os.system(f\"say -v Fred {texto!r}\")\n",
    "\n",
    "# Usar la función con el veredicto\n",
    "leer_en_voz_alta(verdict)"
   ]
  },
  {
   "cell_type": "code",
   "execution_count": null,
   "id": "3e71846e-1e08-404b-9054-bfd29210e725",
   "metadata": {},
   "outputs": [],
   "source": []
  },
  {
   "cell_type": "code",
   "execution_count": null,
   "id": "7c34e3da-9374-4d83-b007-3ed110689e28",
   "metadata": {},
   "outputs": [],
   "source": []
  },
  {
   "cell_type": "code",
   "execution_count": null,
   "id": "41eebc11-7985-4e2c-9219-0be0a3ecd41c",
   "metadata": {},
   "outputs": [],
   "source": []
  },
  {
   "cell_type": "code",
   "execution_count": null,
   "id": "732f74b9-3f87-4069-a59a-d87b4fae5744",
   "metadata": {},
   "outputs": [],
   "source": []
  },
  {
   "cell_type": "code",
   "execution_count": null,
   "id": "6777fb15-feca-492b-9664-62651f1cda8a",
   "metadata": {},
   "outputs": [],
   "source": []
  },
  {
   "cell_type": "code",
   "execution_count": null,
   "id": "ecf14e94-20f6-4572-a976-3e00d1a815be",
   "metadata": {},
   "outputs": [],
   "source": []
  },
  {
   "cell_type": "code",
   "execution_count": null,
   "id": "755c42da-5447-4d6c-a139-0da4ea7b0854",
   "metadata": {},
   "outputs": [],
   "source": []
  }
 ],
 "metadata": {
  "kernelspec": {
   "display_name": "agentscourt",
   "language": "python",
   "name": "agentscourt"
  },
  "language_info": {
   "codemirror_mode": {
    "name": "ipython",
    "version": 3
   },
   "file_extension": ".py",
   "mimetype": "text/x-python",
   "name": "python",
   "nbconvert_exporter": "python",
   "pygments_lexer": "ipython3",
   "version": "3.10.9"
  }
 },
 "nbformat": 4,
 "nbformat_minor": 5
}
